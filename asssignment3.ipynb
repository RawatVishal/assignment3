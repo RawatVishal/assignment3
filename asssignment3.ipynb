{
 "cells": [
  {
   "cell_type": "markdown",
   "id": "fc5bcdef",
   "metadata": {},
   "source": [
    "Assignment 3"
   ]
  },
  {
   "cell_type": "code",
   "execution_count": 1,
   "id": "35b9111c",
   "metadata": {},
   "outputs": [],
   "source": [
    "#Q1\n",
    "# Function are advantageous in programs because it can increase the reusability of same thing over and over again in a program.\n",
    "#example\n",
    "def addfn(a,b):\n",
    "    return a+b\n",
    "#like in above mentioned program we do not have to write addition function again and again with the help of function we can call it assign values to the variable and get the result."
   ]
  },
  {
   "cell_type": "code",
   "execution_count": 3,
   "id": "d229cfa8",
   "metadata": {},
   "outputs": [
    {
     "data": {
      "text/plain": [
       "30"
      ]
     },
     "execution_count": 3,
     "metadata": {},
     "output_type": "execute_result"
    }
   ],
   "source": [
    "addfn(10,20)"
   ]
  },
  {
   "cell_type": "code",
   "execution_count": 4,
   "id": "097b862c",
   "metadata": {},
   "outputs": [],
   "source": [
    "#Q2\n",
    "#The code in a function run when it is called."
   ]
  },
  {
   "cell_type": "code",
   "execution_count": 5,
   "id": "590de657",
   "metadata": {},
   "outputs": [],
   "source": [
    "#Q3\n",
    "#def helps us to create a function .\n"
   ]
  },
  {
   "cell_type": "code",
   "execution_count": 6,
   "id": "8d55f2e4",
   "metadata": {},
   "outputs": [],
   "source": [
    "#Q4\n",
    "#Function is a combination of statement which is used a certain task repeatedly for different outputs.Function call is used for calling the function to perform certain operation which has been written inside function\n",
    "def test(*args): #we are defining a function test which perform list append\n",
    "    l=[]\n",
    "    for i in args:\n",
    "        l.append(i)\n",
    "    return l"
   ]
  },
  {
   "cell_type": "code",
   "execution_count": 8,
   "id": "bbde145d",
   "metadata": {},
   "outputs": [
    {
     "data": {
      "text/plain": [
       "[1, 2, 3, 4, 5, 6, 'sdjdiv']"
      ]
     },
     "execution_count": 8,
     "metadata": {},
     "output_type": "execute_result"
    }
   ],
   "source": [
    "test(1,2,3,4,5,6,'sdjdiv')# in this stage we are calling the function to perform the task "
   ]
  },
  {
   "cell_type": "code",
   "execution_count": 1,
   "id": "a89b0c99",
   "metadata": {},
   "outputs": [],
   "source": [
    "#Q5\n",
    "# In any python program we can have only one global scopes.But local scope is defined for a block of code within python program so we determine as many as local scopes in a python program."
   ]
  },
  {
   "cell_type": "code",
   "execution_count": 6,
   "id": "c30f29f7",
   "metadata": {},
   "outputs": [
    {
     "name": "stdout",
     "output_type": "stream",
     "text": [
      "3\n",
      "2\n"
     ]
    }
   ],
   "source": [
    "#Q6\n",
    "# As we can see a = 2 is treated as global variable because it is situated outside the function and a = 2 treated as a local variable so when we call the function it has printed the local variable first and global variable second \n",
    "a=2\n",
    "def fun():\n",
    "    a=3\n",
    "    print(a)\n",
    "    \n",
    "fun()\n",
    "print(a)"
   ]
  },
  {
   "cell_type": "code",
   "execution_count": 7,
   "id": "e24a8eee",
   "metadata": {},
   "outputs": [],
   "source": [
    "#Q7\n",
    "#A return value return the result in the same data type in which you have executed the operation it means it return the value of not NONE data type .\n",
    "# If it is used in between the program it will give the value without executing the further program .\n",
    "#Yes, it is possible to have a retrun value in an expression ."
   ]
  },
  {
   "cell_type": "code",
   "execution_count": 8,
   "id": "9277ad11",
   "metadata": {},
   "outputs": [],
   "source": [
    "#Q8\n",
    "#If a function does not have a return value expression then it will give NONE as an value .\n"
   ]
  },
  {
   "cell_type": "code",
   "execution_count": 9,
   "id": "93c5ad76",
   "metadata": {},
   "outputs": [],
   "source": [
    "#Q9\n",
    "# We can use global keyword to refer a function variable to global variable.\n",
    "a=0\n",
    "def test1():\n",
    "    global a\n",
    "    a=a+1\n",
    "    print(a)"
   ]
  },
  {
   "cell_type": "code",
   "execution_count": 10,
   "id": "3640e197",
   "metadata": {},
   "outputs": [
    {
     "name": "stdout",
     "output_type": "stream",
     "text": [
      "1\n"
     ]
    }
   ],
   "source": [
    "test1()"
   ]
  },
  {
   "cell_type": "code",
   "execution_count": 11,
   "id": "1945f6e9",
   "metadata": {},
   "outputs": [],
   "source": [
    "#Q10\n",
    "#None is a data type of its own type .It does not contain any value .It is used to represent an object or variable which do no hold any value "
   ]
  },
  {
   "cell_type": "code",
   "execution_count": 13,
   "id": "0e337e4d",
   "metadata": {},
   "outputs": [],
   "source": [
    "#Q11\n",
    "# it will import the statements that are mentioned in the import areallyourpetsnamederic."
   ]
  },
  {
   "cell_type": "code",
   "execution_count": 14,
   "id": "3ca9e06e",
   "metadata": {},
   "outputs": [],
   "source": [
    "#Q12\n",
    "# with the help of spam.bacon()"
   ]
  },
  {
   "cell_type": "code",
   "execution_count": 15,
   "id": "2c3e840e",
   "metadata": {},
   "outputs": [],
   "source": [
    "#Q13\n",
    "#if the program encounters going to have an error then we will have to put try clause ."
   ]
  },
  {
   "cell_type": "code",
   "execution_count": null,
   "id": "695cc32f",
   "metadata": {},
   "outputs": [],
   "source": [
    "#Q14\n",
    "#if  you want top know that a block of code is going to have an error and you want to test it  then put it in try clause .And to handle that error we should use  except clause \n"
   ]
  }
 ],
 "metadata": {
  "kernelspec": {
   "display_name": "Python 3 (ipykernel)",
   "language": "python",
   "name": "python3"
  },
  "language_info": {
   "codemirror_mode": {
    "name": "ipython",
    "version": 3
   },
   "file_extension": ".py",
   "mimetype": "text/x-python",
   "name": "python",
   "nbconvert_exporter": "python",
   "pygments_lexer": "ipython3",
   "version": "3.9.7"
  }
 },
 "nbformat": 4,
 "nbformat_minor": 5
}
